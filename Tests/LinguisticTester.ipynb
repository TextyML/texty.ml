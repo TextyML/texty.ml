{
 "cells": [
  {
   "cell_type": "code",
   "execution_count": 6,
   "metadata": {
    "collapsed": true
   },
   "outputs": [],
   "source": [
    "from operator import *\n",
    "from unittest import *\n",
    "\n",
    "%run \"../Import/LinguisticVectorizer.py\"\n",
    "\n",
    "vec = LinguisticVectorizer()"
   ]
  },
  {
   "cell_type": "code",
   "execution_count": 12,
   "metadata": {
    "collapsed": false
   },
   "outputs": [
    {
     "name": "stderr",
     "output_type": "stream",
     "text": [
      "..\n",
      "----------------------------------------------------------------------\n",
      "Ran 2 tests in 0.005s\n",
      "\n",
      "OK\n"
     ]
    },
    {
     "data": {
      "text/plain": [
       "<unittest.runner.TextTestResult run=2 errors=0 failures=0>"
      ]
     },
     "execution_count": 12,
     "metadata": {},
     "output_type": "execute_result"
    }
   ],
   "source": [
    "class TestLinguisticVectorizer(TestCase):   \n",
    "    def test_features(self):\n",
    "        # We have 19 Features\n",
    "        self.assertEqual(len(vec.get_feature_names()),19)\n",
    "        \n",
    "        # The first one is text_length\n",
    "        self.assertEqual(vec.get_feature_names()[0], \"text_length\")\n",
    "    \n",
    "    def test_text_length(self):\n",
    "        # Len = 4\n",
    "        self.assertEqual(vec._get_text_length(\"How are you today?\"), 4)\n",
    "        \n",
    "testclass = TestLinguisticVectorizer()\n",
    "\n",
    "suite = TestLoader().loadTestsFromModule(testclass)\n",
    "TextTestRunner().run(suite)"
   ]
  }
 ],
 "metadata": {
  "anaconda-cloud": {},
  "kernelspec": {
   "display_name": "Python [conda root]",
   "language": "python",
   "name": "conda-root-py"
  },
  "language_info": {
   "codemirror_mode": {
    "name": "ipython",
    "version": 3
   },
   "file_extension": ".py",
   "mimetype": "text/x-python",
   "name": "python",
   "nbconvert_exporter": "python",
   "pygments_lexer": "ipython3",
   "version": "3.5.2"
  }
 },
 "nbformat": 4,
 "nbformat_minor": 1
}
