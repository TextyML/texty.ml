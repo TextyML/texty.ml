{
 "cells": [
  {
   "cell_type": "code",
   "execution_count": 8,
   "metadata": {
    "collapsed": true,
    "deletable": true,
    "editable": true
   },
   "outputs": [],
   "source": [
    "from sklearn.decomposition import TruncatedSVD\n",
    "from sklearn.utils.extmath import randomized_svd\n",
    "from sklearn.utils import check_random_state\n",
    "from scipy.sparse import csc_matrix"
   ]
  },
  {
   "cell_type": "code",
   "execution_count": 9,
   "metadata": {
    "collapsed": false,
    "deletable": true,
    "editable": true
   },
   "outputs": [
    {
     "name": "stdout",
     "output_type": "stream",
     "text": [
      "[[ 1  0  0  0]\n",
      " [ 0  0 10 11]\n",
      " [ 0  0  0 99]]\n",
      "(3, 4)\n",
      "4\n"
     ]
    }
   ],
   "source": [
    "X = csc_matrix([[1,0,0,0],[0,0,10,11],[0,0,0,99]])\n",
    "print(X.todense())\n",
    "print(X.shape)\n",
    "print(X.shape[1])"
   ]
  },
  {
   "cell_type": "code",
   "execution_count": 4,
   "metadata": {
    "collapsed": false,
    "deletable": true,
    "editable": true
   },
   "outputs": [
    {
     "data": {
      "text/plain": [
       "NewSVD(algorithm='randomized', n_components=3, n_iter=7, random_state=42,\n",
       "    tol=0.0)"
      ]
     },
     "execution_count": 4,
     "metadata": {},
     "output_type": "execute_result"
    }
   ],
   "source": [
    "class NewSVD(TruncatedSVD):\n",
    "    def fit_transform(self, X, y=None):\n",
    "        if self.n_components < X.shape[1]:\n",
    "            return super().fit_transform(X, y)\n",
    "        else:\n",
    "            random_state = check_random_state(self.random_state)\n",
    "            U, Sigma, VT = randomized_svd(X, X.shape[1],\n",
    "                                          n_iter=self.n_iter,\n",
    "                                          random_state=random_state)\n",
    "            self.components_ = VT\n",
    "            #X_transformed = U * Sigma\n",
    "            return X.toarray()\n",
    "\n",
    "svd = NewSVD(n_components=3, n_iter=7, random_state=42)\n",
    "svd.fit(X)"
   ]
  },
  {
   "cell_type": "code",
   "execution_count": 5,
   "metadata": {
    "collapsed": false,
    "deletable": true,
    "editable": true
   },
   "outputs": [
    {
     "data": {
      "text/plain": [
       "array([[ -0.        ,  -0.        ,   1.        ],\n",
       "       [ 11.11128282,   9.87620343,  -0.        ],\n",
       "       [ 98.99379358,  -1.10852696,  -0.        ]])"
      ]
     },
     "execution_count": 5,
     "metadata": {},
     "output_type": "execute_result"
    }
   ],
   "source": [
    "svd.fit_transform(X)"
   ]
  },
  {
   "cell_type": "code",
   "execution_count": 6,
   "metadata": {
    "collapsed": false,
    "deletable": true,
    "editable": true
   },
   "outputs": [
    {
     "data": {
      "text/plain": [
       "array([[  6.47112461e-32,  -0.00000000e+00,   1.11972421e-02,\n",
       "          9.99937309e-01],\n",
       "       [  2.46519033e-32,   2.02222644e-33,   9.99937309e-01,\n",
       "         -1.11972421e-02],\n",
       "       [  1.00000000e+00,   3.64291930e-17,  -1.73124342e-18,\n",
       "         -2.21423033e-16]])"
      ]
     },
     "execution_count": 6,
     "metadata": {},
     "output_type": "execute_result"
    }
   ],
   "source": [
    "svd.components_"
   ]
  },
  {
   "cell_type": "code",
   "execution_count": 75,
   "metadata": {
    "collapsed": false,
    "deletable": true,
    "editable": true
   },
   "outputs": [],
   "source": [
    "%run LinguisticVectorizer.py"
   ]
  },
  {
   "cell_type": "code",
   "execution_count": 76,
   "metadata": {
    "collapsed": false
   },
   "outputs": [],
   "source": [
    "ling = LinguisticVectorizer()"
   ]
  },
  {
   "cell_type": "code",
   "execution_count": 77,
   "metadata": {
    "collapsed": false
   },
   "outputs": [
    {
     "data": {
      "text/plain": [
       "'Das ist der 5 Test den der 3 heute macht mit einem Wert von 05 bzw 5e1'"
      ]
     },
     "execution_count": 77,
     "metadata": {},
     "output_type": "execute_result"
    }
   ],
   "source": [
    "\"Das ist der 5. Test, den der 3. heute macht, mit einem Wert von 0.5 bzw. 5e-1.\".translate(str.maketrans(\"\", \"\", string.punctuation))"
   ]
  },
  {
   "cell_type": "code",
   "execution_count": 78,
   "metadata": {
    "collapsed": false
   },
   "outputs": [
    {
     "ename": "AttributeError",
     "evalue": "'LinguisticVectorizer' object has no attribute '_filter'",
     "output_type": "error",
     "traceback": [
      "\u001b[0;31m---------------------------------------------------------------------------\u001b[0m",
      "\u001b[0;31mAttributeError\u001b[0m                            Traceback (most recent call last)",
      "\u001b[0;32m<ipython-input-78-f189a349187c>\u001b[0m in \u001b[0;36m<module>\u001b[0;34m()\u001b[0m\n\u001b[0;32m----> 1\u001b[0;31m \u001b[0mling\u001b[0m\u001b[0;34m.\u001b[0m\u001b[0m_filter\u001b[0m\u001b[0;34m(\u001b[0m\u001b[0;34m\"Das ist der 5. Test, den der 3. heute macht, mit einem Wert von 0.5 bzw. 5e-1.\"\u001b[0m\u001b[0;34m)\u001b[0m\u001b[0;34m\u001b[0m\u001b[0m\n\u001b[0m",
      "\u001b[0;31mAttributeError\u001b[0m: 'LinguisticVectorizer' object has no attribute '_filter'"
     ]
    }
   ],
   "source": [
    "ling._filter(\"Das ist der 5. Test, den der 3. heute macht, mit einem Wert von 0.5 bzw. 5e-1.\")"
   ]
  },
  {
   "cell_type": "code",
   "execution_count": 79,
   "metadata": {
    "collapsed": false
   },
   "outputs": [
    {
     "data": {
      "text/plain": [
       "13"
      ]
     },
     "execution_count": 79,
     "metadata": {},
     "output_type": "execute_result"
    }
   ],
   "source": [
    "ling._get_text_length(\"Das ist der 5. Test, den der 3. heute macht, mit einem Wert von 0.5 bzw. 5e-1.\")"
   ]
  },
  {
   "cell_type": "code",
   "execution_count": 80,
   "metadata": {
    "collapsed": false
   },
   "outputs": [
    {
     "name": "stdout",
     "output_type": "stream",
     "text": [
      "Das\n",
      "ist\n",
      "der\n",
      "5\n",
      "\n",
      "Test\n",
      "\n",
      "den\n",
      "der\n",
      "3\n",
      "heute\n",
      "macht\n",
      "\n",
      "mit\n",
      "einem\n",
      "Wert\n",
      "von\n",
      "05\n",
      "bzw\n",
      "\n",
      "5e1\n",
      "\n"
     ]
    },
    {
     "data": {
      "text/plain": [
       "array([[ 13.        ,   0.        ,   4.33333333,   3.61538462,\n",
       "          1.        ,   0.        ,   0.        ,   4.        ,\n",
       "          0.92307692,   1.        ,   0.84615385,   0.        ,\n",
       "          0.        ,   0.        ,   0.        ,   0.        ,\n",
       "          0.        ,   1.        ,   0.        ,   0.        ]])"
      ]
     },
     "execution_count": 80,
     "metadata": {},
     "output_type": "execute_result"
    }
   ],
   "source": [
    "ling.transform([\"Das ist der 5. Test, den der 3. heute macht, mit einem Wert von 0.5 bzw. 5e-1.\"])"
   ]
  },
  {
   "cell_type": "code",
   "execution_count": null,
   "metadata": {
    "collapsed": true
   },
   "outputs": [],
   "source": []
  }
 ],
 "metadata": {
  "kernelspec": {
   "display_name": "Python 3",
   "language": "python",
   "name": "python3"
  },
  "language_info": {
   "codemirror_mode": {
    "name": "ipython",
    "version": 3
   },
   "file_extension": ".py",
   "mimetype": "text/x-python",
   "name": "python",
   "nbconvert_exporter": "python",
   "pygments_lexer": "ipython3",
   "version": "3.5.3"
  }
 },
 "nbformat": 4,
 "nbformat_minor": 2
}
