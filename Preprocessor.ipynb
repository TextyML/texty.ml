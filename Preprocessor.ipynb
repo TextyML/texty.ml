{
 "cells": [
  {
   "cell_type": "code",
   "execution_count": null,
   "metadata": {
    "collapsed": true
   },
   "outputs": [],
   "source": [
    "from nltk.tokenize import sent_tokenize, word_tokenize\n",
    "\n",
    "class Preprocessor():\n",
    "    \n",
    "    def __init__(self, stemmer=None, lemmatizer=None, stopwords=None):\n",
    "        self.stemmer = stemmer\n",
    "        self.lemmatizer = lemmatizer\n",
    "        self.stopwords = stopwords\n",
    "    \n",
    "    def _tokenize(self, string):\n",
    "        return word_tokenize(string)\n",
    "    \n",
    "    def _filter_for_words(self, tokens):\n",
    "        return [w for w in tokens if w.isalpha()]\n",
    "    \n",
    "    def _lowercase_words(self, tokens):\n",
    "        return [w.lower() for w in tokens]\n",
    "    \n",
    "    def _remove_stopwords(self, tokens):\n",
    "        return [w for w in tokens if w not in self.stopwords]\n",
    "    \n",
    "    def _stem(self, tokens):\n",
    "        return [self.stemmer.stem(t) for t in tokens]\n",
    "\n",
    "    def _lemmatize(self, tokens):\n",
    "        return [self.lemmatizer.lemmatize(t) for t in tokens]\n",
    "    \n",
    "    def _process(self, string):\n",
    "        tokens = self._tokenize(string)\n",
    "        tokens = self._filter_for_words(tokens)\n",
    "        tokens = self._lowercase_words(tokens)\n",
    "        if self.stopwords is not None:\n",
    "            tokens = self._remove_stopwords(tokens)\n",
    "        if self.stemmer is not None:\n",
    "            tokens = self._stem(tokens)\n",
    "        elif self.lemmatizer is not None:\n",
    "            tokens = self._lemmatize(tokens)\n",
    "        return tokens\n",
    "    \n",
    "    def get_preprocessed_text(self, string):\n",
    "        return ' '.join(self._process(string))\n",
    "    \n",
    "    def get_preprocessed_tokens(self, string):\n",
    "        return self._process(string)"
   ]
  }
 ],
 "metadata": {
  "anaconda-cloud": {},
  "kernelspec": {
   "display_name": "Python [conda root]",
   "language": "python",
   "name": "conda-root-py"
  },
  "language_info": {
   "codemirror_mode": {
    "name": "ipython",
    "version": 3
   },
   "file_extension": ".py",
   "mimetype": "text/x-python",
   "name": "python",
   "nbconvert_exporter": "python",
   "pygments_lexer": "ipython3",
   "version": "3.5.2"
  }
 },
 "nbformat": 4,
 "nbformat_minor": 1
}
