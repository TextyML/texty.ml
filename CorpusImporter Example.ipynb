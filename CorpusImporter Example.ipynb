{
 "cells": [
  {
   "cell_type": "markdown",
   "metadata": {
    "deletable": true,
    "editable": true
   },
   "source": [
    "# CorpusImporter Example\n",
    "\n",
    "## import"
   ]
  },
  {
   "cell_type": "code",
   "execution_count": 25,
   "metadata": {
    "collapsed": false,
    "deletable": true,
    "editable": true
   },
   "outputs": [],
   "source": [
    "%run \"Import/CorpusImporter.py\"\n",
    "\n",
    "corpus = CorpusImporter()"
   ]
  },
  {
   "cell_type": "markdown",
   "metadata": {
    "deletable": true,
    "editable": true
   },
   "source": [
    "## CrawlNYT \n",
    "Der Crawler muss zunächst mit den gewünschten Daten gefüttert werden. Alle Eigenschaften werden per Parameter übergeben.\n",
    "\n",
    "Zunächst muss man dem Crawler übergeben, welche Art von Artikel gesammelt werden sollen. Dazu dienen Parameter:\n",
    "\n",
    "* whitelist - Dokumente mit einem dieser Tags werden übernommen\n",
    "* blacklist - Dokumente mit einem dieser Tags werden ignoriert (Höhere Wertigkeit als whitelist !)\n",
    "* mapping   - Labels werden zu einem Label zusammengefasst, Format [ Zusammenfassendes Label, [Andere Labels]  ]\n",
    "\n",
    "Automatisch sucht der Crawler im Corpus Ordner und scannt die Jahre 2007, 2006, 2005 (in der Reihenfolge). Der Scanprocess kann weiterhin gefiltert werden.\n",
    "\n",
    "### per_tag\n",
    "Ist ein Usecase gefordert, an der nur eine bestimmte Anzahl von Dokumenten pro Tag gesammelt werden sollen, benutze diese Funktion. Beachte hierbei, dass max_count dementsprechend hoch eingestellt werden muss. \n",
    "\n",
    "Ist Multilabel aktiviert, so gelten z.B.\n",
    "\n",
    "[Art,Science] und [Art,Politics] als eigenständige Labels. \n",
    "\n",
    "\n",
    "### max_count\n",
    "Dieser Parameter gibt an, wieviele Dokumente auf die Datenbank geschrieben werden sollen. Möchte man also für 5 Labels je 100 Dokumente mindestens einlesen, dann sollte dieser Wert > 500 sein.\n",
    "\n",
    "Dieser Wert wird für Unit Tests verwendet, um den Crawlprocess zu beschleunigen.\n",
    "\n",
    "### clearMemory\n",
    "Mit \n",
    "```python \n",
    "corpus.clearMemory()\n",
    "``` \n",
    "wird die interne Datenbank gelöscht. Ein guter Weg um Datenmüll zu reinigen.\n",
    "\n",
    "## Autocomplete\n",
    "Die komplette Dokumentation ist verfügbar beim Drücken von [SHIFT]+[TAB] auf die Funktion crawlNYT()"
   ]
  },
  {
   "cell_type": "code",
   "execution_count": 27,
   "metadata": {
    "collapsed": false,
    "deletable": true,
    "editable": true
   },
   "outputs": [
    {
     "name": "stdout",
     "output_type": "stream",
     "text": [
      "Reading archives: ['01.tgz', '02.tgz', '03.tgz', '04.tgz', '05.tgz', '06.tgz']\n",
      "Reading archives: ['01.tgz', '02.tgz', '03.tgz', '04.tgz', '05.tgz', '06.tgz', '07.tgz', '08.tgz', '09.tgz', '10.tgz', '11.tgz', '12.tgz']\n",
      "Reading archives: ['01.tgz', '02.tgz', '03.tgz', '04.tgz', '05.tgz', '06.tgz', '07.tgz', '08.tgz', '09.tgz', '10.tgz', '11.tgz', '12.tgz']\n"
     ]
    }
   ],
   "source": [
    "corpus.clearMemory()\n",
    "corpus.crawlNYT(per_tag=50, is_multilabel=False)"
   ]
  },
  {
   "cell_type": "code",
   "execution_count": 28,
   "metadata": {
    "collapsed": false,
    "deletable": true,
    "editable": true
   },
   "outputs": [
    {
     "data": {
      "text/plain": [
       "450"
      ]
     },
     "execution_count": 28,
     "metadata": {},
     "output_type": "execute_result"
    }
   ],
   "source": [
    "len(corpus._Collection)"
   ]
  },
  {
   "cell_type": "code",
   "execution_count": 32,
   "metadata": {
    "collapsed": false
   },
   "outputs": [
    {
     "data": {
      "text/plain": [
       "Item(title=\"If I ever need to be committed, I could do worse than end up someplace like the Medfield Insane Asylum of a century ago. There -- judging from the photos of that Massachusetts institution now displayed at Harvard University's Arthur M. Sackler Museum -- I would have a good chance of sleeping on starched linen, walking on spotless floors and rarely bumping into fellow inmates. The elite private rooms of the McLean Hospital are still more appealing, offering in 1903 the coziness of Victorian living rooms. And even insanity might not be too high a price to pay for the draperies, lace and furnishings promised by a photograph of the Lunatic Asylum for Men in Ghent, Belgium.\", tags=['Arts'], text='If I ever need to be committed, I could do worse than end up someplace like the Medfield Insane Asylum of a century ago. There -- judging from the photos of that Massachusetts institution now displayed at Harvard University\\'s Arthur M. Sackler Museum -- I would have a good chance of sleeping on starched linen, walking on spotless floors and rarely bumping into fellow inmates. The elite private rooms of the McLean Hospital are still more appealing, offering in 1903 the coziness of Victorian living rooms. And even insanity might not be too high a price to pay for the draperies, lace and furnishings promised by a photograph of the Lunatic Asylum for Men in Ghent, Belgium.\\nBut that is one of the problems when one starts looking more closely at the photographs in the Sackler\\'s exhibition \"Classified Documents: The Social Museum of Harvard University, 1903-1931.\" One doesn\\'t quite know how to interpret these images of institutions that have developed in response to human misery and illness, or even how much to trust them. They demonstrate, again and again, how many extraordinary efforts have been made to alleviate suffering. But these antiseptic photographs allow no disturbed patients to interfere with their pristine vision.\\nOn the other hand, the exhibition also contains images of shoddy rooms, threadbare clothes and women grimly rolling tobacco leaves. But some of these pictures can seem artificial and staged too, even when they are meant to seem bleak, as if they were simply intent on demonstrating how much poverty, disease and hopelessness yet remains.\\nWith such photographs -- and with much writing as well -- it becomes difficult to see fully what is being shown and why, how it fits into a broader context and what is to be done. But to understand social ills and the efforts made to alleviate them, Francis Greenwood Peabody, Harvard\\'s Plummer professor of Christian morals from 1886 to 1912, began accumulating thousands of these photographs, along with pamphlets, illustrations and handcrafted objects to document and cure those ills, thus founding Harvard\\'s Social Museum. It folded nearly three decades later, and this modest exhibition is the first major look at its materials in more than 30 years. What it shows, though, may not always be what Peabody intended.\\nA liberal theologian and minister who helped end compulsory worship at Harvard College, Peabody imagined he was putting the understanding of society on the same scientific footing that he saw in other disciplines. That meant reasoning from induction: gathering evidence and generalizing from it. Peabody points out that Harvard\\'s Museum of Comparative Zoology began in 1859, its Museum of Archaeology and Ethnology in 1866, its Semitic Museum in 1889; they all accumulated specimens, classified them and made connections.\\nIn his Social Museum, Peabody said he would do the same. He wrote: \"The facts of philanthropy, industry, poor-relief, housing, insurance, cooperation, alcoholism and penology are as capable of graphic representation as the lives and habits of beetles or plants.\" The Social Museum, as part of Harvard\\'s then-new department of social ethics, was, he wrote \"the first attempt to collect the social experience of the world as material for university teaching, and to provide guidance for academic inquirers into the study of social progress.\" (Peabody\\'s paper is at ocp.hul.harvard.edu/immigration/photos-social-museum.html.)\\nHe created his own system of classification, his own set of genuses and species, under rubrics like \"Charity, Aged,\" \"Charity, Children\" and \"Charity, Tuberculosis.\" There were \"Crime, Prisons, New Hampshire\" and \"Crime, Women, Germany\"; \"Defectives, Crippled, France\" and \"Defectives, Epileptics, United States, New York\"; \"Housing, Improved, Germany, Frankfurt\" and \"Social Settlements, Iowa.\" What he saw taking shape, Peabody suggested, was \"the scope and comprehensiveness of this modern movement of social service,\" in which different cultures were working toward \"a common end of social justice and peace.\"\\nIn this exhibition -- organized by Deborah Martin Kao and Michelle Lamunière, who are photography curators with the Fogg Art Museum at Harvard -- that scope is evident. (A database of the entire Social Museum collection will soon be available at www.artmuseums.harvard.edu/socialmuseum.) The images illustrate settlement houses in which homes were turned into social training grounds for immigrants and the needy; public programs in New York that schooled girls for domestic service; before-and-after photos showing the cultivating effect of Hampton Normal and Agricultural Institute on a poor black family in Virginia; an agricultural school in Woodbine, N.J., that taught milk sterilization and farming to Jewish immigrants; and factories of the H. J. Heinz Company and the National Cash Register Company, where reading rooms and social gatherings became institutionalized accompaniments to labor. There are also photographs of rundown apartments and poor working conditions, though none as horrifying as images we have come to know since or the ones that had already been well documented in novels and muckraking reports.\\nBut because almost nothing has context and very little has explanation, nothing is revealed other than the broad scope of the social welfare enterprise. Some images came to the museum from the 1904 World\\'s Fair in St. Louis and literally served as promotions for various social institutions. Some, like those showing poorly ventilated rooms, are meant to awaken outrage, but instead inspire mild curiosity partly because they resemble middle-class urban railroad flats still being used.\\nHow serious were the problems and how successful the solutions? It is unclear. Poverty, disease, unemployment and madness were met by orphanages, settlement houses, asylums and work programs. But do the suffering and institutional remedies fit into a \"scientific\" social vision like the one Peabody desired for university study? Not really. Try applying established political or academic theories to these conditions -- say, Foucault\\'s view of the oppressive control of social institutions, or a Marxist view of alienated labor and class struggle -- and enough seeps past the theories\\' boundaries to show how inadequate the abstractions are to illuminating generations of toil and hardship and generations of effort to alleviate their toll. A century after Peabody\\'s project, the phenomena still overwhelm theory.\\nPeabody\\'s idea of a Social Museum is somewhat absurd because nothing in it was truly a specimen, the way a bone or a meteorite might be for a museum of natural history. Peabody\\'s classifications represent surface observations with little deeper significance, as if someone had decided to assemble display cases containing all round objects, say, or all books with brown covers. The result could have been worse: forcing the images into an ill-fitting theory would have distorted as much as it revealed.\\nThere is also a tension between Peabody\\'s idea for this museum and the nature of a university itself. The Social Museum was more an attempt to sample than to comprehend, less an attempt to study a problem than to proselytize for a solution, or as Peabody put it, \"to direct the amelioration of industrial and social life.\" Directing that amelioration is not something that universities were once eager to do, which may have been one reason the Social Museum was ultimately absorbed into Harvard\\'s largermuseums, and why, by the 1930s, the department of social ethics had become the department of sociology.\\nThere is, though, something anthropologically intriguing about the Social Museum itself. Though in its simplicity it failed, its tensions are still latent in contemporary university life. At times, in books and at conferences, in policy papers and in community projects, the modern research university seems to be reaching back to its origins, as if determined to transmute, say, the study of sociology into the practice of social ethics, to change the world rather than simply to study it, to direct the amelioration of social life. At those times the theological and missionary origins of the university reappear and the university could almost seem to be seeking a place for itself in some future version of the Social Museum.\\nConnections, a critic\\'s perspective on the arts, appears every other Monday.\\nCONNECTIONS\\n')"
      ]
     },
     "execution_count": 32,
     "metadata": {},
     "output_type": "execute_result"
    }
   ],
   "source": [
    "corpus._Collection[0]"
   ]
  },
  {
   "cell_type": "code",
   "execution_count": null,
   "metadata": {
    "collapsed": true
   },
   "outputs": [],
   "source": []
  }
 ],
 "metadata": {
  "kernelspec": {
   "display_name": "Python 3",
   "language": "python",
   "name": "python3"
  },
  "language_info": {
   "codemirror_mode": {
    "name": "ipython",
    "version": 3
   },
   "file_extension": ".py",
   "mimetype": "text/x-python",
   "name": "python",
   "nbconvert_exporter": "python",
   "pygments_lexer": "ipython3",
   "version": "3.5.3"
  }
 },
 "nbformat": 4,
 "nbformat_minor": 2
}
