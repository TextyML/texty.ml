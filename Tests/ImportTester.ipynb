{
 "cells": [
  {
   "cell_type": "code",
   "execution_count": 29,
   "metadata": {
    "collapsed": false,
    "deletable": true,
    "editable": true
   },
   "outputs": [],
   "source": [
    "from operator import *\n",
    "from unittest import *\n",
    "\n",
    "%run \"../Import/CorpusImporter.py\"\n",
    "\n",
    "corpus = CorpusImporter()"
   ]
  },
  {
   "cell_type": "code",
   "execution_count": 30,
   "metadata": {
    "collapsed": false,
    "deletable": true,
    "editable": true
   },
   "outputs": [
    {
     "name": "stderr",
     "output_type": "stream",
     "text": [
      ".."
     ]
    },
    {
     "name": "stdout",
     "output_type": "stream",
     "text": [
      "Reading archives: ['04.tgz', '05.tgz', '03.tgz', '06.tgz', '01.tgz', '02.tgz']\n"
     ]
    },
    {
     "name": "stderr",
     "output_type": "stream",
     "text": [
      "\n",
      "----------------------------------------------------------------------\n",
      "Ran 2 tests in 0.008s\n",
      "\n",
      "OK\n"
     ]
    },
    {
     "data": {
      "text/plain": [
       "<unittest.runner.TextTestResult run=2 errors=0 failures=0>"
      ]
     },
     "execution_count": 30,
     "metadata": {},
     "output_type": "execute_result"
    }
   ],
   "source": [
    "class TestCorpusImporter (TestCase):   \n",
    "    def test_tags_converter(self):\n",
    "        # When tag is whitelisted should return the tag\n",
    "        tags = [\"Arts\"]\n",
    "        extract_tags = corpus._getTags(tags_input = tags, is_multilabel = True, mapping = [] , whitelist = [\"Arts\", \"Science\"], blacklist = [])\n",
    "        self.assertEqual(list(tags), extract_tags)\n",
    "        \n",
    "        # When multilabel = False, should return empty if multilabel\n",
    "        tags = [\"Arts\", \"Science\"]\n",
    "        extract_tags = corpus._getTags(tags_input = tags, is_multilabel = False, mapping = [] , whitelist = [\"Arts\", \"Science\"], blacklist = [])\n",
    "        \n",
    "        self.assertEqual(list([]), extract_tags)\n",
    "        \n",
    "        # Blacklist even if another tag is whitelisted\n",
    "        tags = [\"Science\", \"PaidDeathNotices\"]\n",
    "        extract_tags = corpus._getTags(tags_input = tags, is_multilabel = False, mapping = [] , whitelist = [\"Arts\", \"Science\"], blacklist = [\"PaidDeathNotices\"])\n",
    "        self.assertEqual(list([]), extract_tags)\n",
    "        \n",
    "        # Ignore other tags\n",
    "        tags = [\"Science\", \"DiningAndWine\"]\n",
    "        extract_tags = corpus._getTags(tags_input = tags, is_multilabel = False, mapping = [] , whitelist = [\"Arts\", \"Science\"], blacklist = [\"PaidDeathNotices\"])\n",
    "        self.assertEqual(list([\"Science\"]), extract_tags)\n",
    "\n",
    "\n",
    "        tags = [\"Washington\"]\n",
    "        extract_tags = corpus._getTags(tags_input = tags, is_multilabel = True, mapping = [[\"Politics\",[\"Washington\"]]], whitelist = [], blacklist = [])  \n",
    "        self.assertEqual(list([]), extract_tags)\n",
    "        \n",
    "        tags = [\"Washington\"]\n",
    "        extract_tags = corpus._getTags(tags_input = tags, is_multilabel = True, mapping = [[\"Politics\",[\"Washington\"]]], whitelist = [\"Politics\"], blacklist = []) \n",
    "        self.assertEqual(list([\"Politics\"]), extract_tags)\n",
    "\n",
    "    def test_crawlNYT(self):\n",
    "        corpus.crawlNYT(to_database=False, max_count=1)\n",
    "        \n",
    "        self.assertEqual([\"Arts\"],corpus._Collection[0].tags)\n",
    "        \n",
    "        corpus.clearMemory()\n",
    "        \n",
    "        self.assertEqual([], corpus._Collection)\n",
    "        \n",
    "testclass = TestCorpusImporter()\n",
    "\n",
    "suite = TestLoader().loadTestsFromModule(testclass)\n",
    "TextTestRunner().run(suite)"
   ]
  },
  {
   "cell_type": "markdown",
   "metadata": {
    "deletable": true,
    "editable": true
   },
   "source": [
    "# Playground"
   ]
  },
  {
   "cell_type": "code",
   "execution_count": 11,
   "metadata": {
    "collapsed": false,
    "deletable": true,
    "editable": true
   },
   "outputs": [
    {
     "name": "stdout",
     "output_type": "stream",
     "text": [
      "Reading archives: ['04.tgz', '05.tgz', '03.tgz', '06.tgz', '01.tgz', '02.tgz']\n"
     ]
    }
   ],
   "source": [
    "corpus.crawlNYT(to_database=False, max_count=1)"
   ]
  },
  {
   "cell_type": "code",
   "execution_count": 28,
   "metadata": {
    "collapsed": true,
    "deletable": true,
    "editable": true
   },
   "outputs": [],
   "source": [
    "corpus.removeAllFromDB()\n",
    "corpus.clearMemory()"
   ]
  },
  {
   "cell_type": "code",
   "execution_count": 45,
   "metadata": {
    "collapsed": false,
    "deletable": true,
    "editable": true
   },
   "outputs": [
    {
     "name": "stdout",
     "output_type": "stream",
     "text": [
      "{'tags': ['Arts'], 'text': 'The subscription series \"Girls\\' Night Out\" was born at New York City Ballet last winter, but the description in the current brochure is much less sedate. \"Ladies, with this series you can plan to spend time with your best girlfriends and maybe even make some new ones,\" the blurb says, continuing with promises of \"plenty of \\'girl talk\\' with ballerinas.\" (Is nothing sacred? Do those \"girls\" get battle pay?) Oh, and there\\'s also \"the beauty of the ballet,\" represented here by \"Romeo and Juliet\" and an all-Bach program.\\nOther troupes are scouring their demographics these days for any hitherto unacknowledged audience groups. San Francisco Ballet offers a special series, for instance, for gay, lesbian, transgendered and bisexual fans. And a spokesman for City Ballet swears that the cringe-inducing \"Girls\\' Night Out\" has been a success. The theme programs drew from 35 to 600 subscribers last season, he said, with \"Girls\\' \" climbing from 71 to 105 subscribers this season, 65 percent of them renewals. Audiences for the theme program tend to be new or longtime patrons eager to meet like-minded people.\\nBut a perfect niche has been missed by City Ballet this season, which features a centenary tribute to Lincoln Kirstein, its co-founder with George Balanchine. Both men loved cats. Mr. Kirstein referred to the company as the \"New York Kitty Ballet.\" So why no series for cats and their fanciers? The possibilities are endless: a catnip mouse on every seat and tuna tartare for all at intermission.\\nJENNIFER DUNNING\\n', 'title': 'The subscription series \"Girls\\' Night Out\" was born at New York City Ballet last winter, but the description in the current brochure is much less sedate. \"Ladies, with this series you can plan to spend time with your best girlfriends and maybe even make some new ones,\" the blurb says, continuing with promises of \"plenty of \\'girl talk\\' with ballerinas.\" (Is nothing sacred? Do those \"girls\" get battle pay?) Oh, and there\\'s also \"the beauty of the ballet,\" represented here by \"Romeo and Juliet\" and an all-Bach program.'}\n"
     ]
    }
   ],
   "source": [
    "print(dict(corpus._Collection[0]._asdict()))"
   ]
  }
 ],
 "metadata": {
  "anaconda-cloud": {},
  "kernelspec": {
   "display_name": "Python 3",
   "language": "python",
   "name": "python3"
  },
  "language_info": {
   "codemirror_mode": {
    "name": "ipython",
    "version": 3
   },
   "file_extension": ".py",
   "mimetype": "text/x-python",
   "name": "python",
   "nbconvert_exporter": "python",
   "pygments_lexer": "ipython3",
   "version": "3.5.3"
  }
 },
 "nbformat": 4,
 "nbformat_minor": 1
}
